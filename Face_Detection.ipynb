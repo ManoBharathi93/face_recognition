{
  "nbformat": 4,
  "nbformat_minor": 0,
  "metadata": {
    "colab": {
      "provenance": [],
      "gpuType": "T4"
    },
    "kernelspec": {
      "name": "python3",
      "display_name": "Python 3"
    },
    "language_info": {
      "name": "python"
    },
    "accelerator": "GPU"
  },
  "cells": [
    {
      "cell_type": "markdown",
      "source": [
        "# Import Libraries"
      ],
      "metadata": {
        "id": "O_0TfjnU9B9E"
      }
    },
    {
      "cell_type": "code",
      "source": [
        "import torch\n",
        "import torch.nn as nn\n",
        "import matplotlib.pyplot as plt\n",
        "from torch.utils.data import Dataset,DataLoader\n",
        "import torchvision.transforms as transforms\n",
        "from torch.autograd import Variable\n",
        "from torchvision.models import resnet18, ResNet18_Weights\n",
        "import cv2\n",
        "import numpy as np\n",
        "import os\n",
        "import random\n",
        "import sys"
      ],
      "metadata": {
        "id": "hkyNeewt9Cnt"
      },
      "execution_count": null,
      "outputs": []
    },
    {
      "cell_type": "markdown",
      "source": [
        "# Dataloaders"
      ],
      "metadata": {
        "id": "yII3oBcp90Fs"
      }
    },
    {
      "cell_type": "code",
      "source": [
        "train_loader = torch.utils.data.DataLoader(\n",
        "    datasets.LFWPairs(\n",
        "        'data/lfw_pairs',\n",
        "        transform=transforms.Compose([\n",
        "            transforms.Resize((224, 224)),\n",
        "            transforms.ToTensor(),\n",
        "            transforms.Normalize((0.5, 0.5, 0.5), (0.5, 0.5, 0.5))\n",
        "        ]),download=True),\n",
        "    batch_size=32,\n",
        "    shuffle=True,\n",
        ")\n",
        "\n",
        "test_loader = torch.utils.data.DataLoader(\n",
        "    datasets.LFWPairs(\n",
        "        'data/lfw_pairs',\n",
        "        split='test',\n",
        "        transform=transforms.Compose([\n",
        "            transforms.Resize((224, 224)),\n",
        "            transforms.ToTensor(),\n",
        "            transforms.Normalize((0.5, 0.5, 0.5), (0.5, 0.5, 0.5))\n",
        "        ]),download=True),\n",
        "    batch_size=32,\n",
        "    shuffle=False,\n",
        ")\n"
      ],
      "metadata": {
        "colab": {
          "base_uri": "https://localhost:8080/"
        },
        "id": "SZOdxdXS9zW6",
        "outputId": "1ecce668-d0d5-4fda-aa5b-a767f669c5ec"
      },
      "execution_count": null,
      "outputs": [
        {
          "output_type": "stream",
          "name": "stdout",
          "text": [
            "Files already downloaded and verified\n",
            "Files already downloaded and verified\n"
          ]
        }
      ]
    },
    {
      "cell_type": "markdown",
      "source": [
        "# Model"
      ],
      "metadata": {
        "id": "T8wCQMckFFHk"
      }
    },
    {
      "cell_type": "code",
      "source": [
        "import torch\n",
        "import torchvision.models as models\n",
        "import torchvision.datasets as datasets\n",
        "import torchvision.transforms as transforms\n",
        "\n",
        "# Load the LFWPairs dataset\n",
        "train_dataset = datasets.LFWPairs(\n",
        "    root='data/lfw_pairs',\n",
        "    transform=transforms.Compose([\n",
        "        transforms.Resize((224, 224)),\n",
        "        transforms.ToTensor(),\n",
        "        transforms.Normalize((0.5, 0.5, 0.5), (0.5, 0.5, 0.5))\n",
        "    ]),\n",
        "    download=True,\n",
        ")\n",
        "\n",
        "train_loader = torch.utils.data.DataLoader(\n",
        "    train_dataset,\n",
        "    batch_size=32,\n",
        "    shuffle=True,\n",
        ")\n",
        "\n",
        "# Load the ResNet model\n",
        "resnet = models.resnet18(pretrained=True)\n",
        "\n",
        "# Freeze the weights of the ResNet model\n",
        "for param in resnet.parameters():\n",
        "    param.requires_grad = False\n",
        "\n",
        "# Add a new output layer\n",
        "resnet.fc = nn.Linear(resnet.fc.in_features, 2)\n",
        "\n",
        "# Define the loss function and optimizer\n",
        "criterion = nn.CrossEntropyLoss()\n",
        "optimizer = torch.optim.SGD(resnet.parameters(), lr=0.01)\n",
        "\n",
        "# Train the model\n",
        "for epoch in range(10):\n",
        "    for _, (_,images, labels) in enumerate(train_loader):\n",
        "        # Forward pass\n",
        "        outputs = resnet(images)\n",
        "\n",
        "        # Calculate loss\n",
        "        loss = criterion(outputs, labels)\n",
        "\n",
        "        # Backpropagate\n",
        "        optimizer.zero_grad()\n",
        "        loss.backward()\n",
        "        optimizer.step()\n",
        "\n",
        "        # Print loss\n",
        "        if i % 100 == 0:\n",
        "            print(loss.item())\n",
        "\n",
        "# Test the model\n",
        "correct = 0\n",
        "total = 0\n",
        "for images, labels in train_loader:\n",
        "    outputs = resnet(images)\n",
        "    _, predicted = outputs.max(1)\n",
        "    total += labels.size(0)\n",
        "    correct += (predicted == labels).sum().item()\n",
        "\n",
        "print('Accuracy: {}'.format(correct / total))\n"
      ],
      "metadata": {
        "colab": {
          "base_uri": "https://localhost:8080/"
        },
        "id": "2WRHR1WrBW22",
        "outputId": "ff18f2de-ba6e-4f2a-96f6-6d1e058a9b43"
      },
      "execution_count": null,
      "outputs": [
        {
          "output_type": "stream",
          "name": "stdout",
          "text": [
            "Files already downloaded and verified\n",
            "0.7884323000907898\n",
            "0.9811753034591675\n",
            "0.7409166097640991\n",
            "0.6891473531723022\n",
            "0.6675329804420471\n",
            "0.8694863319396973\n",
            "0.8340982794761658\n",
            "0.7337572574615479\n",
            "0.923479437828064\n",
            "1.2066805362701416\n",
            "1.538408875465393\n",
            "1.0875391960144043\n",
            "0.8170952200889587\n",
            "1.1638103723526\n",
            "1.4918975830078125\n",
            "0.9667004942893982\n",
            "0.738880455493927\n",
            "0.7022538781166077\n",
            "0.7423314452171326\n",
            "0.8029965758323669\n",
            "0.8443528413772583\n",
            "0.9535704851150513\n",
            "0.8608648180961609\n",
            "1.069362759590149\n",
            "0.9839897751808167\n",
            "0.8790843486785889\n",
            "0.7321726083755493\n",
            "0.7236121296882629\n",
            "0.8065747618675232\n",
            "0.863854706287384\n",
            "0.7385495901107788\n",
            "0.6447163224220276\n",
            "0.7238869071006775\n",
            "0.7212465405464172\n",
            "0.7233757972717285\n",
            "0.6165352463722229\n",
            "0.6760493516921997\n",
            "0.7234036922454834\n",
            "0.7833948731422424\n",
            "0.8214021921157837\n",
            "0.7079439759254456\n",
            "0.7190515398979187\n",
            "1.0202347040176392\n",
            "0.9521776437759399\n",
            "0.7125535607337952\n",
            "0.7381550073623657\n",
            "0.6701617240905762\n",
            "0.7962946891784668\n",
            "0.8690146803855896\n",
            "0.9839555025100708\n",
            "1.0903334617614746\n",
            "0.7292436361312866\n",
            "0.7446701526641846\n",
            "0.9408594965934753\n",
            "0.9040177464485168\n",
            "0.8468007445335388\n",
            "0.7678364515304565\n",
            "0.7581400871276855\n",
            "0.7978180646896362\n",
            "0.7308078408241272\n",
            "0.844974160194397\n",
            "0.8910360336303711\n",
            "0.6503684520721436\n",
            "0.7153708934783936\n",
            "0.7691239714622498\n",
            "0.7509376406669617\n"
          ]
        }
      ]
    },
    {
      "cell_type": "code",
      "source": [],
      "metadata": {
        "id": "HhDe2Q4UBcw6"
      },
      "execution_count": null,
      "outputs": []
    },
    {
      "cell_type": "code",
      "source": [],
      "metadata": {
        "id": "f_I5gaoaDDNt"
      },
      "execution_count": null,
      "outputs": []
    }
  ]
}